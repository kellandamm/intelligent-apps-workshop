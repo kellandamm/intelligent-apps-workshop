{
 "cells": [
  {
   "attachments": {},
   "cell_type": "markdown",
   "metadata": {},
   "source": [
    "#Langchain\n",
    "\n",
    "In this lab, we will introduce [Langchain](https://python.langchain.com/docs/get_started/introduction), a framework for developing applications powered by language models.\n",
    "\n",
    "Langchain supports Python and Javascript / Typescript. For this lab, we will use Python."
   ]
  },
  {
   "attachments": {},
   "cell_type": "markdown",
   "metadata": {},
   "source": [
    "We'll start by importing the `AzureOpenAI` specific components from the `langchain` package, including models and schemas for interacting with the API."
   ]
  },
  {
   "cell_type": "code",
   "execution_count": 1,
   "metadata": {},
   "outputs": [],
   "source": [
    "from langchain_openai import AzureChatOpenAI"
   ]
  },
  {
   "attachments": {},
   "cell_type": "markdown",
   "metadata": {},
   "source": [
    "As with all the other labs, we'll need to provide our API key and endpoint details, so we'll load them from our `.env` file."
   ]
  },
  {
   "cell_type": "code",
   "execution_count": 2,
   "metadata": {},
   "outputs": [
    {
     "name": "stdout",
     "output_type": "stream",
     "text": [
      "Found Azure OpenAI Endpoint: https://ai-demos-aoai-kedamm.openai.azure.com/\n"
     ]
    }
   ],
   "source": [
    "import os\n",
    "import openai\n",
    "from dotenv import load_dotenv\n",
    "\n",
    "if load_dotenv():\n",
    "    print(\"Found Azure OpenAI Endpoint: \" + os.getenv(\"AZURE_OPENAI_ENDPOINT\"))\n",
    "else: \n",
    "    print(\"No file .env found\")"
   ]
  },
  {
   "attachments": {},
   "cell_type": "markdown",
   "metadata": {},
   "source": [
    "Next, we'll configure Langchain by providing the Azure OpenAI deployment name. Langchain will automatically retrieve details for the Azure OpenAI endpoint and version from the environment variables we've set above."
   ]
  },
  {
   "cell_type": "code",
   "execution_count": 3,
   "metadata": {},
   "outputs": [],
   "source": [
    "# Create an instance of Azure OpenAI\n",
    "llm = AzureChatOpenAI(\n",
    "    azure_deployment = os.getenv(\"AZURE_OPENAI_COMPLETION_DEPLOYMENT_NAME\")\n",
    ")"
   ]
  },
  {
   "attachments": {},
   "cell_type": "markdown",
   "metadata": {},
   "source": [
    "## Send a prompt to Azure OpenAI using Langchain\n",
    "\n",
    "We're now ready to send a request to Azure OpenAI. To do this, we invoke the `llm` instance we created above and pass in the prompt."
   ]
  },
  {
   "cell_type": "code",
   "execution_count": 4,
   "metadata": {},
   "outputs": [
    {
     "name": "stdout",
     "output_type": "stream",
     "text": [
      "A Raspberry Pi is a versatile little computer that can be used for a wide range of projects, from simple to complex. Here are some ideas for things you could make with a Raspberry Pi:\n",
      "\n",
      "1. **Media Center**: Use software like Kodi or Plex to turn your Raspberry Pi into a home theater PC, capable of streaming or playing locally stored media.\n",
      "\n",
      "2. **Retro Gaming Console**: Install RetroPie or another emulator to play classic video games from consoles like the NES, SNES, Sega Genesis, and more.\n",
      "\n",
      "3. **Home Automation System**: Create a smart home hub to control lights, thermostats, and other smart devices using platforms like Home Assistant or OpenHAB.\n",
      "\n",
      "4. **Web Server**: Set up a web server using Apache or Nginx to host your personal website or blog.\n",
      "\n",
      "5. **Network Attached Storage (NAS)**: Turn your Raspberry Pi into a file server to share files across your home network.\n",
      "\n",
      "6. **Personal Cloud**: Use software like Nextcloud to create your own private cloud storage solution.\n",
      "\n",
      "7. **VPN Server**: Set up a VPN server to secure your internet connection and access your home network remotely.\n",
      "\n",
      "8. **Digital Photo Frame**: Display a slideshow of your favorite photos on a connected screen.\n",
      "\n",
      "9. **Weather Station**: Connect sensors to your Raspberry Pi to collect and display local weather data.\n",
      "\n",
      "10. **Smart Mirror**: Build a smart mirror that displays time, weather, news, and other information.\n",
      "\n",
      "11. **Security Camera System**: Use motionEyeOS to create a DIY security camera system for your home.\n",
      "\n",
      "12. **Robot Controller**: Use the Raspberry Pi to control a robot, whether it's for educational purposes or just for fun.\n",
      "\n",
      "13. **AI Assistant**: Build a voice-activated assistant using software like Mycroft or Google's AIY Projects.\n",
      "\n",
      "14. **Time-Lapse Camera**: Capture time-lapse videos using a camera module and custom scripts.\n",
      "\n",
      "15. **Digital Signage**: Create a digital signage display for businesses or events using software like Screenly.\n",
      "\n",
      "16. **Ad Blocker**: Set up Pi-hole to block ads across your entire network.\n",
      "\n",
      "17. **Desktop Computer**: Use the Raspberry Pi as a low-cost desktop computer for basic tasks.\n",
      "\n",
      "18. **Sensor Monitoring**: Connect various sensors (temperature, humidity, motion, etc.) for monitoring and alerts.\n",
      "\n",
      "19. **IoT Projects**: Use the Raspberry Pi as a hub for Internet of Things devices, collecting and processing data.\n",
      "\n",
      "20. **Educational Tools**: Teach programming and electronics using platforms like Scratch, Python, or GPIO projects.\n",
      "\n",
      "These projects can be customized and expanded upon depending on your interests and skill level. The Raspberry Pi community is very active, so there are plenty of tutorials and resources available online to help you get started with any of these ideas.\n"
     ]
    }
   ],
   "source": [
    "r = llm.invoke(\"What things could I make with a Raspberry Pi?\")\n",
    "\n",
    "# Print the response\n",
    "print(r.content)"
   ]
  },
  {
   "cell_type": "markdown",
   "metadata": {},
   "source": [
    "Compared to using the OpenAI Python library as we did in the previous lab, Langchain further simplified the process of interacting with the LLM by reducing it to a `llm.invoke` call."
   ]
  },
  {
   "attachments": {},
   "cell_type": "markdown",
   "metadata": {},
   "source": [
    "## Using templates and chains\n",
    "\n",
    "We've seen that we can use Langchain to interact with the LLM and it's a little easier to work with than the OpenAI Python library. However, that's just the start of how Langchain makes it easier to work with LLM's. Most OpenAI models are designed to be interacted with using a Chat style interface, where you provide a persona or system prompt which helps the LLM understand the context of the conversation. This will then be sent to the LLM along with the user's request.\n",
    "\n",
    "So that you don't have to setup the persona / system prompt every time you want to interact with the LLM, Langchain provides the concept of Templates. Templates are a way to define the persona and system prompt once and then reuse them across multiple interactions."
   ]
  },
  {
   "cell_type": "code",
   "execution_count": 5,
   "metadata": {},
   "outputs": [],
   "source": [
    "from langchain_core.prompts import ChatPromptTemplate\n",
    "prompt = ChatPromptTemplate.from_messages([\n",
    "    (\"system\", \"You are a chatbot that helps people generate ideas for their next project. You can help them brainstorm ideas, come up with a plan, or even help them with their project.\"),\n",
    "    (\"user\", \"{input}\")\n",
    "])"
   ]
  },
  {
   "cell_type": "markdown",
   "metadata": {},
   "source": [
    "Above we've defined a \"system\" message which will tell the LLM how we're expecting it to respond, and an `{input}` placeholder for the user's prompt.\n",
    "\n",
    "Next, we define a chain. A chain allows us to define a sequence of operations that we want to perform. In this case, we're defining a simple chain that will take the prompt we've defined above and send it to the LLM."
   ]
  },
  {
   "cell_type": "code",
   "execution_count": 6,
   "metadata": {},
   "outputs": [],
   "source": [
    "chain = prompt | llm"
   ]
  },
  {
   "cell_type": "markdown",
   "metadata": {},
   "source": [
    "Now, we can invoke the chain in a similar fashion to how to invoked the LLM earlier. This time, we're passing in the user's input as a parameter to the chain, which will replace the `{input}` placeholder in the prompt."
   ]
  },
  {
   "cell_type": "code",
   "execution_count": 7,
   "metadata": {},
   "outputs": [
    {
     "data": {
      "text/plain": [
       "AIMessage(content='Absolutely, Raspberry Pi is a versatile tool for a wide range of projects. Here are some ideas to get you started:\\n\\n1. **Home Automation System**:\\n   - Control lights, thermostats, and security systems.\\n   - Integrate with voice assistants like Alexa or Google Assistant.\\n   - Use sensors to create a smart garden that monitors soil moisture and waters plants automatically.\\n\\n2. **Media Center**:\\n   - Set up a Kodi or Plex media server to stream movies and music to your devices.\\n   - Create a retro gaming console using RetroPie to play classic games.\\n\\n3. **Weather Station**:\\n   - Use sensors to collect data on temperature, humidity, and air pressure.\\n   - Display the data on a web dashboard or mobile app.\\n\\n4. **Web Server**:\\n   - Host a personal website or blog.\\n   - Learn basic web development by setting up a LAMP (Linux, Apache, MySQL, PHP) server.\\n\\n5. **Network-wide Ad Blocker**:\\n   - Install Pi-hole to block advertisements on all devices connected to your home network.\\n\\n6. **Surveillance Camera**:\\n   - Set up a security camera system using motionEyeOS.\\n   - Use facial recognition software to identify and alert you when certain people are detected.\\n\\n7. **Digital Photo Frame**:\\n   - Display a rotating gallery of your favorite photos.\\n   - Add features to pull images from cloud storage or social media.\\n\\n8. **Personal Assistant**:\\n   - Build a voice-activated assistant using Mycroft or another open-source platform.\\n   - Customize it with specific tasks or information relevant to you.\\n\\n9. **Robot or Drone**:\\n   - Construct a simple robot with sensors for obstacle avoidance.\\n   - Program a drone for autonomous navigation.\\n\\n10. **IoT Projects**:\\n    - Connect various sensors and devices to the internet.\\n    - Create a smart mirror that displays the time, weather, and news.\\n\\n11. **Educational Platform**:\\n    - Set up a platform like Kano or Sugar to teach kids coding and computer science concepts.\\n\\n12. **AI and Machine Learning**:\\n    - Experiment with TensorFlow or similar frameworks to run machine learning models.\\n    - Create a simple image classification or speech recognition project.\\n\\nOnce you decide on a project, you can start by breaking it down into smaller tasks, researching necessary components and software, and planning out your timeline. If you need further guidance on any specific project, feel free to ask!', additional_kwargs={'refusal': None}, response_metadata={'token_usage': {'completion_tokens': 498, 'prompt_tokens': 70, 'total_tokens': 568, 'completion_tokens_details': None, 'prompt_tokens_details': None}, 'model_name': 'gpt-4o-2024-08-06', 'system_fingerprint': 'fp_d54531d9eb', 'prompt_filter_results': [{'prompt_index': 0, 'content_filter_results': {}}], 'finish_reason': 'stop', 'logprobs': None, 'content_filter_results': {'hate': {'filtered': False, 'severity': 'safe'}, 'protected_material_code': {'filtered': False, 'detected': False}, 'protected_material_text': {'filtered': False, 'detected': False}, 'self_harm': {'filtered': False, 'severity': 'safe'}, 'sexual': {'filtered': False, 'severity': 'safe'}, 'violence': {'filtered': False, 'severity': 'safe'}}}, id='run-940a36a2-bc8d-4170-ac38-4a6cfd2a40da-0', usage_metadata={'input_tokens': 70, 'output_tokens': 498, 'total_tokens': 568, 'input_token_details': {}, 'output_token_details': {}})"
      ]
     },
     "execution_count": 7,
     "metadata": {},
     "output_type": "execute_result"
    }
   ],
   "source": [
    "chain.invoke({\"input\": \"I've just purchased a Raspberry Pi and I'm looking for a project to work on. Can you help me brainstorm some ideas?\"})"
   ]
  },
  {
   "cell_type": "markdown",
   "metadata": {},
   "source": [
    "The result will be an `AIMessage` object, which contains the response from the LLM.\n",
    "\n",
    "Let's enhance the chain further to get it to parse the output from the LLM and extract the text from the response. First, we define an output parser."
   ]
  },
  {
   "cell_type": "code",
   "execution_count": 8,
   "metadata": {},
   "outputs": [],
   "source": [
    "from langchain_core.output_parsers import StrOutputParser\n",
    "\n",
    "output_parser = StrOutputParser()"
   ]
  },
  {
   "cell_type": "markdown",
   "metadata": {},
   "source": [
    "Next, we redefine our chain to include the output parser. So now when we invoke the chain, it will \n",
    "\n",
    "- Take the prompt template and add the user's input\n",
    "- Send the prompt to the LLM\n",
    "- Parse the response from the LLM and extract the text"
   ]
  },
  {
   "cell_type": "code",
   "execution_count": 9,
   "metadata": {},
   "outputs": [],
   "source": [
    "chain = prompt | llm | output_parser"
   ]
  },
  {
   "cell_type": "markdown",
   "metadata": {},
   "source": [
    "Now let's invoke the chain again with the same prompt as before."
   ]
  },
  {
   "cell_type": "code",
   "execution_count": 10,
   "metadata": {},
   "outputs": [
    {
     "data": {
      "text/plain": [
       "\"Absolutely! Raspberry Pi is a versatile platform, and there are countless projects you can explore depending on your interests and skill level. Here are some ideas to get you started:\\n\\n1. **Home Automation System**: Create a smart home hub that can control lights, thermostats, and other devices. Integrate it with voice assistants like Alexa or Google Assistant for added functionality.\\n\\n2. **Retro Gaming Console**: Use RetroPie or Recalbox to turn your Raspberry Pi into a retro gaming console that can play old-school games from consoles like NES, SNES, and Sega Genesis.\\n\\n3. **Media Center**: Set up a Kodi or Plex media server to stream movies, TV shows, and music to your devices. This could include setting up a local network storage option.\\n\\n4. **Personal Web Server**: Host your own website or blog using software like WordPress or Ghost. This is a great way to learn about web hosting and server management.\\n\\n5. **Network Ad Blocker**: Install Pi-hole to create a network-wide ad blocker, which can improve browsing speed and protect against online tracking.\\n\\n6. **Weather Station**: Build a weather station using sensors to measure temperature, humidity, and air pressure. You can display the data on a web interface or an LCD screen.\\n\\n7. **Surveillance Camera**: Set up a security camera system using the Raspberry Pi Camera Module and software like MotionEyeOS to monitor your home or office.\\n\\n8. **AI Assistant**: Develop your own AI-powered voice assistant using Python libraries and Google's Speech Recognition API. You can customize it to perform specific tasks or answer questions.\\n\\n9. **Robot Project**: Build a simple robot using motors and sensors. You can control it with Python code and experiment with autonomous navigation or remote control.\\n\\n10. **Plant Monitoring System**: Create a system to monitor and water your plants automatically based on soil moisture levels. Use sensors and a small water pump for this project.\\n\\n11. **Smart Mirror**: Build a smart mirror that displays information like time, weather, and calendar events. Use a two-way mirror and an LCD screen behind it for the display.\\n\\n12. **Time-Lapse Camera**: Set up a Raspberry Pi as a time-lapse camera to capture stunning images over time. Use it for nature photography or documenting a project.\\n\\n13. **VPN Server**: Configure your Raspberry Pi as a VPN server to securely access your home network from anywhere in the world.\\n\\n14. **Smart TV Upgrade**: Turn an old TV into a smart TV by connecting your Raspberry Pi and running an operating system like LibreELEC.\\n\\n15. **Educational Tool**: Develop educational games or simulations, or even use it as a teaching tool to learn programming and electronics.\\n\\nOnce you choose a project, I can help you brainstorm the steps to get started or any specific components you might need. Let me know which one interests you!\""
      ]
     },
     "execution_count": 10,
     "metadata": {},
     "output_type": "execute_result"
    }
   ],
   "source": [
    "chain.invoke({\"input\": \"I've just purchased a Raspberry Pi and I'm looking for a project to work on. Can you help me brainstorm some ideas?\"})"
   ]
  },
  {
   "cell_type": "markdown",
   "metadata": {},
   "source": [
    "This time, you should only get a string containing the text from the response.\n",
    "\n",
    "We can do much more powerful things with chains than simply setting up and passing prompts to the LLM and parsing the results. We can augment the prompt with external data retrieved from a database, we could add conversation history to provide context for a chatbot, or we could even chain multiple LLMs together to create a more powerful model. We'll explore some of these ideas in future labs."
   ]
  },
  {
   "attachments": {},
   "cell_type": "markdown",
   "metadata": {},
   "source": [
    "## Summary\n",
    "\n",
    "Langchain is an example of an AI orchestrator. It provides an alternative method to the raw API or using an SDK package to access the AI models, but on top of that can provide additional integrations, deal with issues related to rate limiting of the API and provide an abstraction layer over potentially complex operations. We'll get into those more complex use cases in later labs."
   ]
  },
  {
   "attachments": {},
   "cell_type": "markdown",
   "metadata": {},
   "source": [
    "## Up Next\n",
    "\n",
    "In the next lab, we'll look at another AI Orchestrator - Semantic Kernel."
   ]
  },
  {
   "cell_type": "markdown",
   "metadata": {},
   "source": [
    "## Next Section\n",
    "\n",
    "📣 [Semantic Kernel](../04-SemanticKernel/semantickernel.ipynb)"
   ]
  }
 ],
 "metadata": {
  "kernelspec": {
   "display_name": "Python 3",
   "language": "python",
   "name": "python3"
  },
  "language_info": {
   "codemirror_mode": {
    "name": "ipython",
    "version": 3
   },
   "file_extension": ".py",
   "mimetype": "text/x-python",
   "name": "python",
   "nbconvert_exporter": "python",
   "pygments_lexer": "ipython3",
   "version": "3.12.7"
  },
  "orig_nbformat": 4
 },
 "nbformat": 4,
 "nbformat_minor": 2
}
