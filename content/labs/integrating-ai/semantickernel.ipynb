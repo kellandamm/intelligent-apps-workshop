{
 "cells": [
  {
   "attachments": {},
   "cell_type": "markdown",
   "metadata": {},
   "source": [
    "# 04. Semantic Kernel\n",
    "\n",
    "In this lab, we will introduce **Semantic Kernel**. Like **Langchain**, it provides a framework for working with AI models and supports applications written in Python. Semantic Kernel also adds support for .NET and Java applications.\n",
    "\n",
    "As with the other labs, we'll start by reading in values from the `.env` file.\n",
    "\n",
    "___\n",
    "**NOTE**: This lab uses **.NET** so be sure to select .NET and not Python when starting to use this notebook.\n",
    "___"
   ]
  },
  {
   "cell_type": "code",
   "execution_count": 1,
   "metadata": {
    "dotnet_interactive": {
     "language": "csharp"
    },
    "polyglot_notebook": {
     "kernelName": "csharp"
    },
    "vscode": {
     "languageId": "polyglot-notebook"
    }
   },
   "outputs": [
    {
     "data": {
      "text/html": [
       "<div><div></div><div></div><div><strong>Installed Packages</strong><ul><li><span>dotenv.net, 3.2.0</span></li></ul></div></div>"
      ]
     },
     "metadata": {},
     "output_type": "display_data"
    }
   ],
   "source": [
    "#r \"nuget: dotenv.net, 3.2.0\"\n",
    "\n",
    "using dotenv.net;\n",
    "\n",
    "// Read values from .env file\n",
    "var envVars = DotEnv.Fluent()\n",
    "    .WithoutExceptions()\n",
    "    .WithEnvFiles(\"../../../.env\")\n",
    "    .WithTrimValues()\n",
    "    .WithDefaultEncoding()\n",
    "    .WithOverwriteExistingVars()\n",
    "    .WithoutProbeForEnv()\n",
    "    .Read();\n",
    "\n",
    "// Load values into variables and strip quotes\n",
    "var model = envVars[\"AZURE_OPENAI_COMPLETION_DEPLOYMENT_NAME\"].Replace(\"\\\"\", \"\");\n",
    "var azureEndpoint = envVars[\"AZURE_OPENAI_ENDPOINT\"].Replace(\"\\\"\", \"\");\n",
    "var apiKey = envVars[\"AZURE_OPENAI_API_KEY\"].Replace(\"\\\"\", \"\");\n"
   ]
  },
  {
   "attachments": {},
   "cell_type": "markdown",
   "metadata": {},
   "source": [
    "To start working with Semantic Kernel, we'll need to load its nuget package."
   ]
  },
  {
   "cell_type": "code",
   "execution_count": 2,
   "metadata": {
    "dotnet_interactive": {
     "language": "csharp"
    },
    "polyglot_notebook": {
     "kernelName": "csharp"
    },
    "vscode": {
     "languageId": "polyglot-notebook"
    }
   },
   "outputs": [
    {
     "data": {
      "text/html": [
       "<div><div></div><div></div><div><strong>Installed Packages</strong><ul><li><span>Microsoft.SemanticKernel, 1.19.0</span></li></ul></div></div>"
      ]
     },
     "metadata": {},
     "output_type": "display_data"
    }
   ],
   "source": [
    "#r \"nuget: Microsoft.SemanticKernel, 1.19.0\""
   ]
  },
  {
   "attachments": {},
   "cell_type": "markdown",
   "metadata": {},
   "source": [
    "Semantic Kernel works by creating an instance of the Kernel and then adding in various plugins to perform different functions. Those plugins or functions can then be called individually or chained together to perform more complex tasks.\n",
    "\n",
    "We use the standard .NET `builder` pattern to initialise the kernel. Notice that we pass in the details of the completion model that we're going to use, the Azure OpenAI API endpoint URL and the API key."
   ]
  },
  {
   "cell_type": "code",
   "execution_count": 3,
   "metadata": {
    "dotnet_interactive": {
     "language": "csharp"
    },
    "polyglot_notebook": {
     "kernelName": "csharp"
    },
    "vscode": {
     "languageId": "polyglot-notebook"
    }
   },
   "outputs": [],
   "source": [
    "using Microsoft.SemanticKernel;\n",
    "\n",
    "var builder = Kernel.CreateBuilder();\n",
    "builder.Services.AddAzureOpenAIChatCompletion(model, azureEndpoint, apiKey);\n",
    "var kernel = builder.Build();"
   ]
  },
  {
   "cell_type": "markdown",
   "metadata": {},
   "source": [
    "## Send a prompt to Azure OpenAI using Semantic Kernel\n",
    "\n",
    "Now that we've established a connection to the Azure OpenAI API, we can go ahead and send a prompt to the LLM."
   ]
  },
  {
   "cell_type": "code",
   "execution_count": 4,
   "metadata": {
    "dotnet_interactive": {
     "language": "csharp"
    },
    "polyglot_notebook": {
     "kernelName": "csharp"
    },
    "vscode": {
     "languageId": "polyglot-notebook"
    }
   },
   "outputs": [
    {
     "name": "stdout",
     "output_type": "stream",
     "text": [
      "Raspberry Pi is an extremely versatile single-board computer that can be used for a wide range of projects. Here are some popular and interesting projects you can undertake with a Raspberry Pi:\n",
      "\n",
      "1. **Media Center**: Turn your Raspberry Pi into a media center using software like Kodi, LibreELEC, or OSMC to stream videos, music, and more.\n",
      "\n",
      "2. **Retro Gaming Console**: Use software such as RetroPie to transform your Raspberry Pi into a retro gaming console capable of playing classic games from systems like NES, SNES, and Sega Genesis.\n",
      "\n",
      "3. **Home Automation System**: Implement smart home automation using tools like Home Assistant or OpenHAB to control smart devices like lights, thermostats, and security systems.\n",
      "\n",
      "4. **Network Attached Storage (NAS)**: Set up a personal file storage solution by connecting an external hard drive to your Raspberry Pi and using software like OpenMediaVault.\n",
      "\n",
      "5. **Web Server**: Host your own website or web applications by setting up a LAMP (Linux, Apache, MySQL, PHP) or LEMP (Linux, Nginx, MySQL, PHP) stack.\n",
      "\n",
      "6. **VPN Server**: Create a secure connection to your home network from anywhere in the world using OpenVPN or WireGuard.\n",
      "\n",
      "7. **Weather Station**: Build a weather station by connecting sensors to the Raspberry Pi to monitor and log weather data like temperature, humidity, and pressure.\n",
      "\n",
      "8. **Security Camera**: Turn a Raspberry Pi with a camera module into a security camera. Use software like MotionEyeOS to monitor and record activity.\n",
      "\n",
      "9. **Digital Photo Frame**: Display a slideshow of images stored locally or from online services like Google Photos.\n",
      "\n",
      "10. **Pi-Hole**: Set up Pi-Hole to block ads and trackers network-wide, enhancing privacy and improving browsing speeds.\n",
      "\n",
      "11. **Robot Controller**: Use a Raspberry Pi to control various types of robots, from simple wheeled designs to more complex designs with robot arms.\n",
      "\n",
      "12. **Voice Assistant**: Create your own voice assistant using the Google Assistant SDK or Mycroft to handle voice commands and perform tasks.\n",
      "\n",
      "13. **Magic Mirror**: Build a smart mirror that displays useful information such as weather, calendar events, and news.\n",
      "\n",
      "14. **IoT Projects**: Connect various IoT sensors and devices to monitor environments, control things remotely, or for data collection.\n",
      "\n",
      "15. **Custom Network Router**: Use the Raspberry Pi to build a custom network router with enhanced features using software like OpenWRT.\n",
      "\n",
      "16. **Time-lapse Camera**: Create stunning time-lapse photography using a camera module to capture images at specified intervals.\n",
      "\n",
      "17. **Minecraft Server**: Host a Minecraft server for personal use or for friends using the Raspberry Pi.\n",
      "\n",
      "18. **AI Projects**: Implement basic AI and machine learning projects using TensorFlow Lite or run pre-trained models for tasks like image recognition.\n",
      "\n",
      "These projects can often be tailored to your specific interests and can vary in complexity, so you can find something that suits your skill level and desired outcome. The Raspberry Pi community is large and active, so you'll also find plenty of tutorials and resources to help you along the way.\r\n"
     ]
    }
   ],
   "source": [
    "Console.WriteLine(await kernel.InvokePromptAsync(\"What things could I make with a Raspberry Pi?\"));"
   ]
  },
  {
   "attachments": {},
   "cell_type": "markdown",
   "metadata": {},
   "source": [
    "Let's take that simple prompt forward and create a function with a prompt template to perform a simple request to Azure OpenAI. The template allows us to define a prompt and add placeholders for values that we will provide later. These values could come from user input, or another function, for example."
   ]
  },
  {
   "cell_type": "code",
   "execution_count": 5,
   "metadata": {
    "dotnet_interactive": {
     "language": "csharp"
    },
    "polyglot_notebook": {
     "kernelName": "csharp"
    },
    "vscode": {
     "languageId": "polyglot-notebook"
    }
   },
   "outputs": [],
   "source": [
    "var whatCanIMakeFunction = kernel.CreateFunctionFromPrompt(\n",
    "    new PromptTemplateConfig()\n",
    "    {\n",
    "        Template = @\"What interesting things can I make with a {{$item}}?\",\n",
    "        InputVariables = [\n",
    "            new() { Name = \"item\", Description = \"An item to make something with.\", IsRequired=true }\n",
    "        ]\n",
    "    });\n"
   ]
  },
  {
   "attachments": {},
   "cell_type": "markdown",
   "metadata": {},
   "source": [
    "`{{$item}}` represents the value we will provide later and will be replaced when we make the call to Azure OpenAI.\n",
    "\n",
    "Next, we'll define a value for `item` and then call the function, passing in the `item` as we do so."
   ]
  },
  {
   "cell_type": "code",
   "execution_count": 6,
   "metadata": {
    "dotnet_interactive": {
     "language": "csharp"
    },
    "polyglot_notebook": {
     "kernelName": "csharp"
    },
    "vscode": {
     "languageId": "polyglot-notebook"
    }
   },
   "outputs": [
    {
     "name": "stdout",
     "output_type": "stream",
     "text": [
      "A Raspberry Pi is a versatile and affordable platform that can be used to create a wide range of interesting projects. Here are some ideas to inspire you:\n",
      "\n",
      "1. **Retro Gaming Console**: Use software like RetroPie to turn your Raspberry Pi into a retro gaming console. Play classic games from systems like NES, SNES, Sega Genesis, and more.\n",
      "\n",
      "2. **Home Automation System**: Build a smart home system with home automation services like Home Assistant or OpenHAB. Control lights, thermostats, security cameras, and other IoT devices.\n",
      "\n",
      "3. **Media Center**: Set up a media center using Kodi or Plex. Stream movies, TV shows, and music to your TV or play content stored on your local network.\n",
      "\n",
      "4. **Network-Attached Storage (NAS)**: Create your own NAS system to store and share files across your home network using software like OpenMediaVault.\n",
      "\n",
      "5. **Ad-Blocking Server**: Install Pi-hole to block ads on all devices connected to your network. It acts as a DNS sinkhole, preventing unwanted ads from reaching your devices.\n",
      "\n",
      "6. **Security Camera System**: Use software like MotionEyeOS to turn your Raspberry Pi into a networked security camera system for home surveillance.\n",
      "\n",
      "7. **Personal Web Server**: Host your own website or blog by installing a web server like Apache or Nginx on your Raspberry Pi. It's a great way to learn about web hosting and server management.\n",
      "\n",
      "8. **Weather Station**: Set up a personal weather station by connecting temperature, humidity, and other sensors to your Raspberry Pi. Collect and analyze local weather data.\n",
      "\n",
      "9. **Voice Assistant**: Build a voice-controlled assistant using tools like Mycroft or by connecting Google Assistant or Amazon Alexa to your Raspberry Pi.\n",
      "\n",
      "10. **Robotics**: Create your own robots by interfacing the Pi with motors, sensors, and camera modules. You can even program your robot to perform tasks or navigate through environments.\n",
      "\n",
      "11. **DIY Arcade Machine**: Combine a Raspberry Pi with an arcade cabinet to create a homemade arcade machine for games like Pac-Man or Street Fighter.\n",
      "\n",
      "12. **Network Monitor**: Use software like Nagios to monitor network traffic and devices, ensuring your home network is running smoothly.\n",
      "\n",
      "13. **Smart Mirror**: Build a smart mirror that displays time, weather, calendar events, and more while functioning as a regular mirror.\n",
      "\n",
      "14. **Digital Picture Frame**: Create a digital photo frame displaying a slideshow of your favorite photos, using a connected monitor or display.\n",
      "\n",
      "15. **Educational Projects**: Engage in programming and electronics projects, such as controlling LEDs, sensors, or motors, to learn more about technology and coding.\n",
      "\n",
      "These projects can not only be fun and educational, but they can also provide practical benefits around your home.\r\n"
     ]
    }
   ],
   "source": [
    "string item = \"raspberry pi\";\n",
    "\n",
    "var response = await kernel.InvokeAsync(whatCanIMakeFunction, new () { { \"item\", item }});\n",
    "\n",
    "Console.WriteLine(response);"
   ]
  },
  {
   "attachments": {},
   "cell_type": "markdown",
   "metadata": {},
   "source": [
    "The result is a list of ideas for things we could make with a Raspberry Pi. \n",
    "\n",
    "We could then use Semantic Kernel to take that list of ideas and summarize it. First, we'll create a new prompt that will generate a summary of some text."
   ]
  },
  {
   "cell_type": "code",
   "execution_count": 7,
   "metadata": {
    "dotnet_interactive": {
     "language": "csharp"
    },
    "polyglot_notebook": {
     "kernelName": "csharp"
    },
    "vscode": {
     "languageId": "polyglot-notebook"
    }
   },
   "outputs": [],
   "source": [
    "var thingsToMakeSummary = kernel.CreateFunctionFromPrompt(\n",
    "    new PromptTemplateConfig()\n",
    "    {\n",
    "        Template = @\"Summarize the following text: {{$thingsToMake}}?\",\n",
    "        InputVariables = [\n",
    "            new() { Name = \"thingsToMake\", Description = \"A list of things you could make.\", IsRequired=true }\n",
    "        ]\n",
    "    });"
   ]
  },
  {
   "cell_type": "markdown",
   "metadata": {},
   "source": [
    "Next, we can call the kernel again, this time passing in the list of ideas, the `response` from the previous call, as the value for `thingsToMake`."
   ]
  },
  {
   "cell_type": "code",
   "execution_count": 8,
   "metadata": {
    "dotnet_interactive": {
     "language": "csharp"
    },
    "polyglot_notebook": {
     "kernelName": "csharp"
    },
    "vscode": {
     "languageId": "polyglot-notebook"
    }
   },
   "outputs": [
    {
     "name": "stdout",
     "output_type": "stream",
     "text": [
      "A Raspberry Pi is a versatile and cost-effective platform suitable for a variety of creative projects. Here are some ideas:\n",
      "\n",
      "1. **Retro Gaming Console**: Convert it into a console for classic games using RetroPie.\n",
      "2. **Home Automation System**: Use Home Assistant or OpenHAB for smart home control.\n",
      "3. **Media Center**: Set up streaming with Kodi or Plex.\n",
      "4. **Network-Attached Storage (NAS)**: Share files with OpenMediaVault.\n",
      "5. **Ad-Blocking Server**: Block ads network-wide using Pi-hole.\n",
      "6. **Security Camera System**: Use MotionEyeOS for home surveillance.\n",
      "7. **Personal Web Server**: Host websites with Apache or Nginx.\n",
      "8. **Weather Station**: Collect local weather data with sensors.\n",
      "9. **Voice Assistant**: Create a voice assistant using Mycroft, Google Assistant, or Alexa.\n",
      "10. **Robotics**: Build and program robots.\n",
      "11. **DIY Arcade Machine**: Combine with an arcade cabinet for gaming.\n",
      "12. **Network Monitor**: Monitor traffic with Nagios.\n",
      "13. **Smart Mirror**: Create a mirror displaying time, weather, etc.\n",
      "14. **Digital Picture Frame**: Display photo slideshows.\n",
      "15. **Educational Projects**: Engage in programming and electronics projects.\n",
      "\n",
      "These projects offer both fun and educational experiences with practical benefits.\r\n"
     ]
    }
   ],
   "source": [
    "var summary = await kernel.InvokeAsync(thingsToMakeSummary, new () { { \"thingsToMake\", response }});\n",
    "\n",
    "Console.WriteLine(summary);"
   ]
  },
  {
   "attachments": {},
   "cell_type": "markdown",
   "metadata": {},
   "source": [
    "## Summary\n",
    "\n",
    "Semantic Kernel is another example of an AI orchestrator. Like other orchestrators, it can be used to simplify the process of creating complex AI applications."
   ]
  },
  {
   "cell_type": "markdown",
   "metadata": {},
   "source": [
    "## Next Section\n",
    "\n",
    "📣 [AI Orchestration](../../03-orchestration/README.md)"
   ]
  }
 ],
 "metadata": {
  "kernelspec": {
   "display_name": ".NET (C#)",
   "language": "C#",
   "name": ".net-csharp"
  },
  "language_info": {
   "name": "python"
  },
  "orig_nbformat": 4,
  "polyglot_notebook": {
   "kernelInfo": {
    "defaultKernelName": "csharp",
    "items": [
     {
      "aliases": [],
      "name": "csharp"
     }
    ]
   }
  }
 },
 "nbformat": 4,
 "nbformat_minor": 2
}
